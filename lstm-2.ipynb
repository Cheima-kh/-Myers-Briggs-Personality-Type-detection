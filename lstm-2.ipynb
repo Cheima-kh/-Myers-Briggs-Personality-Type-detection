{
 "cells": [
  {
   "cell_type": "code",
   "execution_count": 1,
   "metadata": {},
   "outputs": [
    {
     "name": "stdout",
     "output_type": "stream",
     "text": [
      "Collecting tensorflow_datasets\r\n",
      "\u001b[?25l  Downloading https://files.pythonhosted.org/packages/ca/c9/d97bdf931edbae9aebc767633d088bd674136d5fe7587ef693b7cb6a1883/tensorflow_datasets-3.2.1-py3-none-any.whl (3.4MB)\r\n",
      "\u001b[K     |████████████████████████████████| 3.4MB 546kB/s \r\n",
      "\u001b[?25hCollecting promise\r\n",
      "  Downloading https://files.pythonhosted.org/packages/cf/9c/fb5d48abfe5d791cd496e4242ebcf87a4bb2e0c3dcd6e0ae68c11426a528/promise-2.3.tar.gz\r\n",
      "Requirement already satisfied: protobuf>=3.6.1 in /opt/conda/lib/python3.6/site-packages (from tensorflow_datasets) (3.11.0)\r\n",
      "Requirement already satisfied: wrapt in /opt/conda/lib/python3.6/site-packages (from tensorflow_datasets) (1.11.2)\r\n",
      "Requirement already satisfied: tqdm in /opt/conda/lib/python3.6/site-packages (from tensorflow_datasets) (4.39.0)\r\n",
      "Requirement already satisfied: attrs>=18.1.0 in /opt/conda/lib/python3.6/site-packages (from tensorflow_datasets) (19.3.0)\r\n",
      "Requirement already satisfied: six in /opt/conda/lib/python3.6/site-packages (from tensorflow_datasets) (1.13.0)\r\n",
      "Collecting tensorflow-metadata\r\n",
      "\u001b[?25l  Downloading https://files.pythonhosted.org/packages/3c/61/025e0eb990fcbae79be9dcdca219d739993223fdf72194c96792e69933ab/tensorflow_metadata-0.23.0-py3-none-any.whl (43kB)\r\n",
      "\u001b[K     |████████████████████████████████| 51kB 4.6MB/s \r\n",
      "\u001b[?25hRequirement already satisfied: dill in /opt/conda/lib/python3.6/site-packages (from tensorflow_datasets) (0.3.1.1)\r\n",
      "Requirement already satisfied: requests>=2.19.0 in /opt/conda/lib/python3.6/site-packages (from tensorflow_datasets) (2.22.0)\r\n",
      "Requirement already satisfied: absl-py in /opt/conda/lib/python3.6/site-packages (from tensorflow_datasets) (0.8.1)\r\n",
      "Requirement already satisfied: termcolor in /opt/conda/lib/python3.6/site-packages (from tensorflow_datasets) (1.1.0)\r\n",
      "Requirement already satisfied: numpy in /opt/conda/lib/python3.6/site-packages (from tensorflow_datasets) (1.17.4)\r\n",
      "Requirement already satisfied: future in /opt/conda/lib/python3.6/site-packages (from tensorflow_datasets) (0.18.2)\r\n",
      "Requirement already satisfied: setuptools in /opt/conda/lib/python3.6/site-packages (from protobuf>=3.6.1->tensorflow_datasets) (42.0.1.post20191125)\r\n",
      "Requirement already satisfied: googleapis-common-protos in /opt/conda/lib/python3.6/site-packages (from tensorflow-metadata->tensorflow_datasets) (1.6.0)\r\n",
      "Requirement already satisfied: idna<2.9,>=2.5 in /opt/conda/lib/python3.6/site-packages (from requests>=2.19.0->tensorflow_datasets) (2.8)\r\n",
      "Requirement already satisfied: urllib3!=1.25.0,!=1.25.1,<1.26,>=1.21.1 in /opt/conda/lib/python3.6/site-packages (from requests>=2.19.0->tensorflow_datasets) (1.24.2)\r\n",
      "Requirement already satisfied: chardet<3.1.0,>=3.0.2 in /opt/conda/lib/python3.6/site-packages (from requests>=2.19.0->tensorflow_datasets) (3.0.4)\r\n",
      "Requirement already satisfied: certifi>=2017.4.17 in /opt/conda/lib/python3.6/site-packages (from requests>=2.19.0->tensorflow_datasets) (2019.9.11)\r\n",
      "Building wheels for collected packages: promise\r\n",
      "  Building wheel for promise (setup.py) ... \u001b[?25l-\b \b\\\b \bdone\r\n",
      "\u001b[?25h  Created wheel for promise: filename=promise-2.3-cp36-none-any.whl size=21494 sha256=1181f69929f473eb9116a6a61592ff44effe9939ef0378eec2333c1c4cd9742d\r\n",
      "  Stored in directory: /root/.cache/pip/wheels/19/49/34/c3c1e78bcb954c49e5ec0d31784fe63d14d427f316b12fbde9\r\n",
      "Successfully built promise\r\n",
      "Installing collected packages: promise, tensorflow-metadata, tensorflow-datasets\r\n",
      "Successfully installed promise-2.3 tensorflow-datasets-3.2.1 tensorflow-metadata-0.23.0\r\n"
     ]
    }
   ],
   "source": [
    "!pip install tensorflow_datasets\n"
   ]
  },
  {
   "cell_type": "code",
   "execution_count": 2,
   "metadata": {
    "id": "M_Bxj4DaZi0E",
    "outputId": "7a812ee0-bf8a-42d5-f23a-d450affa9b9e"
   },
   "outputs": [],
   "source": [
    "\n",
    "import tensorflow as tf\n",
    "import tensorflow_datasets as tfds\n",
    "import os"
   ]
  },
  {
   "cell_type": "code",
   "execution_count": 3,
   "metadata": {
    "id": "kUTDwYSm_QTx"
   },
   "outputs": [],
   "source": [
    "mbti_dataset_line = tf.data.TextLineDataset(\"../input/mbti-clean-with-categories/mbti_clean.csv\")"
   ]
  },
  {
   "cell_type": "code",
   "execution_count": 4,
   "metadata": {
    "id": "83SkhV8H1wZT",
    "outputId": "c84b312e-adda-4195-a5df-13a376e2c14c"
   },
   "outputs": [
    {
     "name": "stdout",
     "output_type": "stream",
     "text": [
      "tf.Tensor(b'type,posts,typescat,IE,NS,TF,JP', shape=(), dtype=string)\n",
      "tf.Tensor(b'INFJ,hello  ptypetoken  eostokendot  sorri  hear  your distress eostokendot   onli natur   relationship    perfect   time  everi moment  exist eostokendot    figur  hard time  time  growth  eostokendot  eostokendot  eostokendot     ,8,1,0,0,0', shape=(), dtype=string)\n",
      "tf.Tensor(b'INFJ,prozac wellbrutin  least thirti minut  move your leg   dont mean move them while sit  your same desk chair weed  moder mayb  edibl   healthier altern eostokendot  eostokendot  eostokendot     ,8,1,0,0,0', shape=(), dtype=string)\n",
      "tf.Tensor(b'INFJ,basic come  with three item youv determin that each type  whichev type  want   would more than like  given each type cognit function  whatnot when left  eostokendot  eostokendot  eostokendot     ,8,1,0,0,0', shape=(), dtype=string)\n",
      "tf.Tensor(b'INFJ, thing  moder eostokendot   sim  inde  video game   good   that eostokendot  note  good   that  somewhat subject  that    complet promot  death   given  eostokendot  eostokendot  eostokendot     ,8,1,0,0,0', shape=(), dtype=string)\n"
     ]
    }
   ],
   "source": [
    "for ex in mbti_dataset_line.take(5):\n",
    "  print(ex)"
   ]
  },
  {
   "cell_type": "code",
   "execution_count": 5,
   "metadata": {
    "id": "QY3QoTwzqjMD"
   },
   "outputs": [],
   "source": [
    "def label(line):\n",
    "  label =  tf.strings.substr([line],[-10],[1])\n",
    "  if label[0]==',':\n",
    "    label = tf.strings.substr([line],[-9],[1])\n",
    "  else:\n",
    "    label = tf.strings.substr([line],[-10],[2])\n",
    "  labelnum=tf.strings.to_number(label,tf.int64)\n",
    "  line= tf.strings.substr([line],[6],(tf.strings.length([line])-17))\n",
    "  return line[0], labelnum[0]\n"
   ]
  },
  {
   "cell_type": "code",
   "execution_count": 6,
   "metadata": {
    "id": "0d9AlM9j2sTG"
   },
   "outputs": [],
   "source": [
    "\n",
    "mbti_dataset_line = mbti_dataset_line.skip(1).map(lambda line: label(line))\n"
   ]
  },
  {
   "cell_type": "code",
   "execution_count": 7,
   "metadata": {
    "id": "8wg6GDg2ypU8",
    "outputId": "e6e5492a-2340-4728-d641-f8d7726735f1"
   },
   "outputs": [
    {
     "name": "stdout",
     "output_type": "stream",
     "text": [
      "(<tf.Tensor: shape=(), dtype=string, numpy=b'ello  ptypetoken  eostokendot  sorri  hear  your distress eostokendot   onli natur   relationship    perfect   time  everi moment  exist eostokendot    figur  hard time  time  growth  eostokendot  eostokendot  eostokendot    '>, <tf.Tensor: shape=(), dtype=int64, numpy=8>)\n",
      "(<tf.Tensor: shape=(), dtype=string, numpy=b'rozac wellbrutin  least thirti minut  move your leg   dont mean move them while sit  your same desk chair weed  moder mayb  edibl   healthier altern eostokendot  eostokendot  eostokendot    '>, <tf.Tensor: shape=(), dtype=int64, numpy=8>)\n",
      "(<tf.Tensor: shape=(), dtype=string, numpy=b'asic come  with three item youv determin that each type  whichev type  want   would more than like  given each type cognit function  whatnot when left  eostokendot  eostokendot  eostokendot    '>, <tf.Tensor: shape=(), dtype=int64, numpy=8>)\n",
      "(<tf.Tensor: shape=(), dtype=string, numpy=b'thing  moder eostokendot   sim  inde  video game   good   that eostokendot  note  good   that  somewhat subject  that    complet promot  death   given  eostokendot  eostokendot  eostokendot    '>, <tf.Tensor: shape=(), dtype=int64, numpy=8>)\n",
      "(<tf.Tensor: shape=(), dtype=string, numpy=b'ear  ptypetoken   what were your favorit video game grow   what  your  current favorit video game eostokenquest  cool   '>, <tf.Tensor: shape=(), dtype=int64, numpy=8>)\n"
     ]
    }
   ],
   "source": [
    "for ex in mbti_dataset_line.take(5):\n",
    "  print(ex)"
   ]
  },
  {
   "cell_type": "code",
   "execution_count": 8,
   "metadata": {
    "id": "uGKRMFWzqd87"
   },
   "outputs": [],
   "source": [
    "BUFFER_SIZE = 100000\n",
    "BATCH_SIZE = 64\n",
    "TAKE_SIZE = 5000"
   ]
  },
  {
   "cell_type": "code",
   "execution_count": 9,
   "metadata": {
    "id": "_YADuNtEqdu-"
   },
   "outputs": [],
   "source": [
    "mbti_dataset_line = mbti_dataset_line.shuffle(\n",
    "    BUFFER_SIZE, reshuffle_each_iteration=False)"
   ]
  },
  {
   "cell_type": "code",
   "execution_count": 10,
   "metadata": {
    "id": "m0yWIbr2G_fs",
    "outputId": "daa49757-748e-4172-883f-a9fd5c91a9ef"
   },
   "outputs": [
    {
     "data": {
      "text/plain": [
       "83501"
      ]
     },
     "execution_count": 10,
     "metadata": {},
     "output_type": "execute_result"
    }
   ],
   "source": [
    "tokenizer = tfds.features.text.Tokenizer()\n",
    "\n",
    "vocabulary_set = set()\n",
    "for text_tensor, _ in mbti_dataset_line:\n",
    "  some_tokens = tokenizer.tokenize(text_tensor.numpy())\n",
    "  vocabulary_set.update(some_tokens)\n",
    "\n",
    "vocab_size = len(vocabulary_set)\n",
    "vocab_size"
   ]
  },
  {
   "cell_type": "code",
   "execution_count": 11,
   "metadata": {
    "id": "vIPpa3ueL4T8"
   },
   "outputs": [],
   "source": [
    "encoder = tfds.features.text.TokenTextEncoder(vocabulary_set)"
   ]
  },
  {
   "cell_type": "code",
   "execution_count": 12,
   "metadata": {
    "id": "KXrIdaUFMCun",
    "outputId": "bb005dc5-b868-4d06-fc2b-0153ad286af0"
   },
   "outputs": [
    {
     "name": "stdout",
     "output_type": "stream",
     "text": [
      "b' ptypetoken blog eostokendot   poster write that  have  abil   selfawar  introvert feel allow   know when were do someth wrong eostokendot     feel  becaus when   younger  eostokendot  eostokendot  eostokendot    '\n"
     ]
    }
   ],
   "source": [
    "example_text = next(iter(mbti_dataset_line))[0].numpy()\n",
    "print(example_text)"
   ]
  },
  {
   "cell_type": "code",
   "execution_count": 13,
   "metadata": {
    "id": "wXtIm_OBMMia",
    "outputId": "d25e8848-6b3d-429d-a8e3-fbb6c83bdb10"
   },
   "outputs": [
    {
     "name": "stdout",
     "output_type": "stream",
     "text": [
      "[39178, 1943, 38607, 40934, 69066, 31974, 22491, 71459, 51472, 55739, 40263, 563, 4141, 72317, 35320, 643, 44350, 40252, 38607, 40263, 55260, 72317, 44254, 38607, 38607, 38607]\n"
     ]
    }
   ],
   "source": [
    "encoded_example = encoder.encode(example_text)\n",
    "print(encoded_example)"
   ]
  },
  {
   "cell_type": "code",
   "execution_count": 14,
   "metadata": {
    "id": "O9vTBESiMSl0"
   },
   "outputs": [],
   "source": [
    "def encode(text_tensor, label):\n",
    "  encoded_text = encoder.encode(text_tensor.numpy())\n",
    "  return encoded_text, label\n",
    "\n",
    "def encode_map_fn(text, label):\n",
    "  return tf.py_function(encode, inp=[text, label], Tout=(tf.int64, tf.int64))\n",
    "\n",
    "all_encoded_data = mbti_dataset_line.map(encode_map_fn)"
   ]
  },
  {
   "cell_type": "code",
   "execution_count": 15,
   "metadata": {
    "id": "w5Kb_Xr_MqkD"
   },
   "outputs": [],
   "source": [
    "train_data = all_encoded_data.skip(TAKE_SIZE).shuffle(BUFFER_SIZE)\n",
    "train_data = train_data.padded_batch(BATCH_SIZE, padded_shapes=([-1],[]))\n",
    "\n",
    "test_data = all_encoded_data.take(TAKE_SIZE)\n",
    "test_data = test_data.padded_batch(BATCH_SIZE, padded_shapes=([-1],[]))"
   ]
  },
  {
   "cell_type": "code",
   "execution_count": 16,
   "metadata": {
    "id": "VpZ220tYMW_8",
    "outputId": "e5ca99f6-4168-4ff2-ee62-b76478c2b082"
   },
   "outputs": [
    {
     "data": {
      "text/plain": [
       "(<tf.Tensor: shape=(31,), dtype=int64, numpy=\n",
       " array([39178,  1943, 38607, 40934, 69066, 31974, 22491, 71459, 51472,\n",
       "        55739, 40263,   563,  4141, 72317, 35320,   643, 44350, 40252,\n",
       "        38607, 40263, 55260, 72317, 44254, 38607, 38607, 38607,     0,\n",
       "            0,     0,     0,     0])>,\n",
       " <tf.Tensor: shape=(), dtype=int64, numpy=9>)"
      ]
     },
     "execution_count": 16,
     "metadata": {},
     "output_type": "execute_result"
    }
   ],
   "source": [
    "sample_text, sample_labels = next(iter(test_data))\n",
    "\n",
    "sample_text[0], sample_labels[0]"
   ]
  },
  {
   "cell_type": "code",
   "execution_count": 17,
   "metadata": {
    "id": "C9wgtWwDQTx3"
   },
   "outputs": [],
   "source": [
    "vocab_size += 1"
   ]
  },
  {
   "cell_type": "code",
   "execution_count": 18,
   "metadata": {
    "id": "gQRm7E5zQbHa"
   },
   "outputs": [],
   "source": [
    "model = tf.keras.Sequential()"
   ]
  },
  {
   "cell_type": "code",
   "execution_count": 19,
   "metadata": {
    "id": "xG9s7Zy_Ql_r"
   },
   "outputs": [],
   "source": [
    "model.add(tf.keras.layers.Embedding(vocab_size+1, 64))"
   ]
  },
  {
   "cell_type": "code",
   "execution_count": 20,
   "metadata": {
    "id": "__BU9SgdQ0iO"
   },
   "outputs": [],
   "source": [
    "model.add(tf.keras.layers.Bidirectional(tf.keras.layers.LSTM(64)))"
   ]
  },
  {
   "cell_type": "code",
   "execution_count": 21,
   "metadata": {
    "id": "UjCj-HyKQ9m4"
   },
   "outputs": [],
   "source": [
    "# One or more dense layers.\n",
    "for units in [64, 64]:\n",
    "  model.add(tf.keras.layers.Dense(units, activation='relu'))\n",
    "\n",
    "# Output layer. The first argument is the number of labels.\n",
    "model.add(tf.keras.layers.Dense(16, activation='softmax'))"
   ]
  },
  {
   "cell_type": "code",
   "execution_count": 22,
   "metadata": {
    "id": "_efDhoZvQyVw"
   },
   "outputs": [],
   "source": [
    "model.compile(optimizer='adam',\n",
    "              loss='sparse_categorical_crossentropy',\n",
    "              metrics=['accuracy'])"
   ]
  },
  {
   "cell_type": "code",
   "execution_count": 23,
   "metadata": {
    "id": "iw9VlQalRIcn",
    "outputId": "7f8f1869-b406-4738-a2e6-9aab6b1de33c"
   },
   "outputs": [
    {
     "name": "stdout",
     "output_type": "stream",
     "text": [
      "4203/4203 [==============================] - 372s 89ms/step - loss: 2.2337 - accuracy: 0.2253 - val_loss: 2.2152 - val_accuracy: 0.2294\n"
     ]
    },
    {
     "data": {
      "text/plain": [
       "<tensorflow.python.keras.callbacks.History at 0x7f99640bd550>"
      ]
     },
     "execution_count": 23,
     "metadata": {},
     "output_type": "execute_result"
    }
   ],
   "source": [
    "model.fit(train_data, epochs=1, validation_data=test_data)"
   ]
  },
  {
   "cell_type": "code",
   "execution_count": 24,
   "metadata": {
    "id": "b7FQCc38eOKw",
    "outputId": "f17bfbe0-967e-4409-e26b-83f38be52606"
   },
   "outputs": [
    {
     "name": "stdout",
     "output_type": "stream",
     "text": [
      "     79/Unknown - 10s 132ms/step - loss: 2.2152 - accuracy: 0.2294\n",
      "Eval loss: 2.215, Eval accuracy: 0.229\n"
     ]
    }
   ],
   "source": [
    "eval_loss, eval_acc = model.evaluate(test_data)\n",
    "\n",
    "print('\\nEval loss: {:.3f}, Eval accuracy: {:.3f}'.format(eval_loss, eval_acc))"
   ]
  },
  {
   "cell_type": "code",
   "execution_count": null,
   "metadata": {},
   "outputs": [],
   "source": []
  }
 ],
 "metadata": {
  "kernelspec": {
   "display_name": "Python 3",
   "language": "python",
   "name": "python3"
  },
  "language_info": {
   "codemirror_mode": {
    "name": "ipython",
    "version": 3
   },
   "file_extension": ".py",
   "mimetype": "text/x-python",
   "name": "python",
   "nbconvert_exporter": "python",
   "pygments_lexer": "ipython3",
   "version": "3.6.6"
  }
 },
 "nbformat": 4,
 "nbformat_minor": 4
}
